{
 "cells": [
  {
   "cell_type": "code",
   "execution_count": 59,
   "metadata": {},
   "outputs": [
    {
     "name": "stdout",
     "output_type": "stream",
     "text": [
      "Illegal instruction (core dumped)\r\n"
     ]
    }
   ],
   "source": [
    "from IPython.display import Audio\n",
    "import spleeter #  эффективно отделяют вокал от музыки\n",
    "Audio('audio_example.mp3')\n",
    "\n",
    "!spleeter separate -h\n",
    "!spleeter separate -i audio_example.mp3 -o output/\n",
    "!ls output/разложенное_аудио_на_вокал_и_инструмент\n",
    "\n",
    "Audio('output/разложенное_аудио_на_вокал_и_инструмент/Алла Пугачева - Миллион алых роз.mp4_vocals.mp3')\n",
    "Audio('output/разложенное_аудио_на_вокал_и_инструмент/Алла Пугачева - Миллион алых роз.mp4_accompaniment.mp3)"
   ]
  },
  {
   "cell_type": "code",
   "execution_count": null,
   "metadata": {},
   "outputs": [],
   "source": []
  }
 ],
 "metadata": {
  "kernelspec": {
   "display_name": "Python 3",
   "language": "python",
   "name": "python3"
  },
  "language_info": {
   "codemirror_mode": {
    "name": "ipython",
    "version": 3
   },
   "file_extension": ".py",
   "mimetype": "text/x-python",
   "name": "python",
   "nbconvert_exporter": "python",
   "pygments_lexer": "ipython3",
   "version": "3.6.8"
  }
 },
 "nbformat": 4,
 "nbformat_minor": 2
}
