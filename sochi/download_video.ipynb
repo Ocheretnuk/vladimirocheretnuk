{
 "cells": [
  {
   "cell_type": "code",
   "execution_count": 4,
   "metadata": {},
   "outputs": [
    {
     "data": {
      "text/plain": [
       "'/home/vova/1cloud/sochi/Тонкое искусство пофигизма Марк Мэнсон Аудиокнига.mp4'"
      ]
     },
     "execution_count": 4,
     "metadata": {},
     "output_type": "execute_result"
    }
   ],
   "source": [
    "#Скрипт скачивает видео с Youtube\n",
    "import time\n",
    "from pytube import YouTube\n",
    "yt = YouTube('https://www.youtube.com/watch?v=UvzikFcYYsg')\n",
    "stream = yt.streams.first()\n",
    "#stream = yt.streams.filter(only_audio=True).first()\n",
    "stream.download()\n",
    "             \n",
    "\n",
    "yt = YouTube('https://www.youtube.com/watch?v=D2osuuNJnb4&t=3s')\n",
    "stream = yt.streams.first()\n",
    "#stream = yt.streams.filter(only_audio=True).first()\n",
    "stream.download()\n",
    "             "
   ]
  },
  {
   "cell_type": "code",
   "execution_count": 5,
   "metadata": {},
   "outputs": [
    {
     "name": "stdout",
     "output_type": "stream",
     "text": [
      "MoviePy - Writing audio in Тонкое искусство пофигизма Марк Мэнсон Аудиокнига.mp3\n"
     ]
    },
    {
     "name": "stderr",
     "output_type": "stream",
     "text": [
      "                                                                         \r"
     ]
    },
    {
     "name": "stdout",
     "output_type": "stream",
     "text": [
      "MoviePy - Done.\n"
     ]
    },
    {
     "name": "stderr",
     "output_type": "stream",
     "text": [
      "\r",
      "chunk:   0%|          | 0/708368 [00:00<?, ?it/s, now=None]"
     ]
    },
    {
     "name": "stdout",
     "output_type": "stream",
     "text": [
      "MoviePy - Writing audio in Sapiens Краткая история человечества- Юваль Ной Харари часть- 1 (аудиокнига).mp3\n"
     ]
    },
    {
     "name": "stderr",
     "output_type": "stream",
     "text": [
      "                                                                           \r"
     ]
    },
    {
     "name": "stdout",
     "output_type": "stream",
     "text": [
      "MoviePy - Done.\n"
     ]
    }
   ],
   "source": [
    "import moviepy.editor as mp\n",
    "p = \"Тонкое искусство пофигизма Марк Мэнсон Аудиокнига.mp4\"\n",
    "clip = mp.VideoFileClip(p)\n",
    "clip.audio.write_audiofile(\"Тонкое искусство пофигизма Марк Мэнсон Аудиокнига.mp3\")\n",
    "import moviepy.editor as mp\n",
    "p = \"Sapiens Краткая история человечества- Юваль Ной Харари часть- 1 (аудиокнига).mp4\"\n",
    "clip = mp.VideoFileClip(p)\n",
    "clip.audio.write_audiofile(\"Sapiens Краткая история человечества- Юваль Ной Харари часть- 1 (аудиокнига).mp3\")\n",
    "\n",
    "\n"
   ]
  },
  {
   "cell_type": "code",
   "execution_count": null,
   "metadata": {},
   "outputs": [],
   "source": []
  },
  {
   "cell_type": "code",
   "execution_count": null,
   "metadata": {},
   "outputs": [],
   "source": []
  }
 ],
 "metadata": {
  "kernelspec": {
   "display_name": "Python 3",
   "language": "python",
   "name": "python3"
  },
  "language_info": {
   "codemirror_mode": {
    "name": "ipython",
    "version": 3
   },
   "file_extension": ".py",
   "mimetype": "text/x-python",
   "name": "python",
   "nbconvert_exporter": "python",
   "pygments_lexer": "ipython3",
   "version": "3.6.8"
  }
 },
 "nbformat": 4,
 "nbformat_minor": 2
}
