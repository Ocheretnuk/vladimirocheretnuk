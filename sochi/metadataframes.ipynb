{
 "cells": [
  {
   "cell_type": "code",
   "execution_count": 22,
   "metadata": {},
   "outputs": [
    {
     "name": "stdout",
     "output_type": "stream",
     "text": [
      "8833\n"
     ]
    }
   ],
   "source": [
    "#получаем метаданные по всем изображениям\n",
    "\n",
    "import json\n",
    "from wand.image import Image\n",
    "import os \n",
    "\n",
    "\n",
    "os.chdir(r\"frames\") #заходим в папку, где хранятся все изображения\n",
    "os.listdir(path=\".\")\n",
    "print (len(os.listdir(path=\".\"))) # кол-во получившихся кадров\n",
    "\n",
    "\n",
    "#os.chdir(r\"frames\")\n",
    "data_frame = [] # этот список будет заполнятся словарями с данными ко каждому изображению\n",
    "for i in range(1, len(os.listdir(path=\".\"))): \n",
    "# для каждой картинки заполняем словарь данными о ней: \n",
    "  #  'date:create':\n",
    "  #  'date:modify': \n",
    "  #  'jpeg:colorspace': \n",
    "  #  'jpeg:sampling-factor': \n",
    "   # 'frame_number:': \n",
    "   # 'width:': \n",
    "   # 'height:': \n",
    "   # 'type:': \n",
    "\n",
    "    with Image(filename=\"frame \" + str(i)+ \".jpg\") as img:\n",
    "\n",
    "        data1 = {\n",
    "            'frame_number:': str(i),\n",
    "            'width:': img.width,\n",
    "            'height:': img.height,\n",
    "            'type:': img.type,\n",
    "        }\n",
    "        data = {}\n",
    "        for k, v in img.metadata.items():\n",
    "            data[k] = v\n",
    "        data.update(data1) # Словарь с данными для одной картинки\n",
    "        \n",
    "        data_frame.append(data) # заполняем список\n",
    "\n",
    "with open('metadataframes.json', 'w') as f: #записываем в json\n",
    "    json.dump(data_frame , f)"
   ]
  }
 ],
 "metadata": {
  "kernelspec": {
   "display_name": "Python 3",
   "language": "python",
   "name": "python3"
  },
  "language_info": {
   "codemirror_mode": {
    "name": "ipython",
    "version": 3
   },
   "file_extension": ".py",
   "mimetype": "text/x-python",
   "name": "python",
   "nbconvert_exporter": "python",
   "pygments_lexer": "ipython3",
   "version": "3.6.8"
  }
 },
 "nbformat": 4,
 "nbformat_minor": 2
}
