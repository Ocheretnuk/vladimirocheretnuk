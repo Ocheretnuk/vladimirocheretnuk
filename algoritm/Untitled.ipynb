{
 "cells": [
  {
   "cell_type": "code",
   "execution_count": 44,
   "metadata": {},
   "outputs": [
    {
     "data": {
      "text/plain": [
       "[17, 20, 26, 31, 44, 54, 55, 77, 93]"
      ]
     },
     "execution_count": 44,
     "metadata": {},
     "output_type": "execute_result"
    }
   ],
   "source": [
    "def bose_nelson(data):\n",
    "    m = 1\n",
    "    while m < len(data):\n",
    "        j = 0\n",
    "        while j + m < len(data):\n",
    "            bose_nelson_merge(j, m, m)\n",
    "            j = j + m + m\n",
    "        m = m + m\n",
    "    return data\n",
    "\n",
    "\n",
    "        \n",
    "\n",
    "data = [54,26,93,17,77,31,44,55,20]\n",
    "bose_nelson(data)\n",
    "\n"
   ]
  }
 ],
 "metadata": {
  "kernelspec": {
   "display_name": "Python 3",
   "language": "python",
   "name": "python3"
  },
  "language_info": {
   "codemirror_mode": {
    "name": "ipython",
    "version": 3
   },
   "file_extension": ".py",
   "mimetype": "text/x-python",
   "name": "python",
   "nbconvert_exporter": "python",
   "pygments_lexer": "ipython3",
   "version": "3.6.8"
  }
 },
 "nbformat": 4,
 "nbformat_minor": 2
}
