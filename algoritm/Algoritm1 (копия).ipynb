{
 "cells": [
  {
   "cell_type": "code",
   "execution_count": null,
   "metadata": {},
   "outputs": [],
   "source": [
    "«О-большое»  описывает скорость работы алгоритма, определяет время выполнения в худшем случае \n",
    "O(log n), или логарифмическое время. Пример: бинарный поиск.\n",
    "O(n), или линейное время. Пример: простой поиск.\n",
    "O(n * log n). Пример: эффективные алгоритмы сортировки (быстрая сортировка)\n",
    "O(n^2). Пример: медленные алгоритмы сортировки (сортировка выбором)\n",
    "O(n!). Пример: очень медленные алгоритмы.\n"
   ]
  },
  {
   "cell_type": "code",
   "execution_count": null,
   "metadata": {},
   "outputs": [],
   "source": [
    "# РАНДОМНЫЙ СПИСОК\n",
    "from random import random\n",
    "N = 20\n",
    "array = []\n",
    "for i in range(N):\n",
    "    array.append(int(random()*100))\n",
    "array.sort()\n",
    "print(array)"
   ]
  },
  {
   "cell_type": "markdown",
   "metadata": {},
   "source": [
    "## Быстрая сортировка"
   ]
  },
  {
   "cell_type": "raw",
   "metadata": {},
   "source": [
    "*основана на стратегии разделяй и властвуй/\n",
    "*O(n*logn) - скорость выполнения/\n",
    "*используем рекурсию (вызов функции внутри себя)\n",
    "1.Выбираем опорный элемент\n",
    "2.Разбиваем массив на 3 части\n",
    "Создаём переменные l и r — индексы соответственно начала и конца рассматриваемого подмассива\n",
    "Увеличиваем l, пока l-й элемент меньше опорного\n",
    "Уменьшаем r, пока r-й элемент больше опорного\n",
    "Если l всё ещё меньше r, то меняем l-й и r-й элементы местами, инкрементируем l и декрементируем r\n",
    "Если l вдруг становится больше r, то прерываем цикл\n",
    "Повторяем рекурсивно, пока не дойдём до массива из 1 элемента"
   ]
  },
  {
   "cell_type": "code",
   "execution_count": 52,
   "metadata": {},
   "outputs": [
    {
     "data": {
      "text/plain": [
       "['a', 'b', 'da', 'ddsd', 'ks']"
      ]
     },
     "execution_count": 52,
     "metadata": {},
     "output_type": "execute_result"
    }
   ],
   "source": [
    "nums = ['ks','a','b', 'ddsd','da']\n",
    "num = [3,8,2,22]\n",
    "def quicksort(k):\n",
    "    if len(k) <=1:\n",
    "        return k\n",
    "    else:\n",
    "        q = k[0] # опорный элемент\n",
    "        s = []\n",
    "        m = []\n",
    "        e = []\n",
    "        for i in k:\n",
    "            if i < q:\n",
    "                s.append (i)\n",
    "            elif i > q:\n",
    "                m.append (i)\n",
    "            else:\n",
    "                e.append (i)\n",
    "        return(quicksort(s)+ e + quicksort(m))\n",
    "quicksort(nums)"
   ]
  },
  {
   "cell_type": "markdown",
   "metadata": {},
   "source": [
    "# сортировка слиянием"
   ]
  },
  {
   "cell_type": "markdown",
   "metadata": {},
   "source": [
    "*рекурсивный алгоритм, который постоянно разбивает список пополам. \n",
    "*порядоченные подмассивы соединяются в общий упорядоченный подмассив.\n",
    "*Нужно двигаться одновременно в обоих массивах слева-направо и сравнивать очередные пары элементов из обоих массивов. \n",
    "*Меньший элемент отправляется в общий котёл. \n",
    "*Когда в одном из массивов элементы заканчиваются, оставшиеся элементы из другого массива просто по порядку переносятся в главный список."
   ]
  },
  {
   "cell_type": "code",
   "execution_count": 131,
   "metadata": {},
   "outputs": [],
   "source": [
    "def mergeSort(alist):\n",
    "    print(\"Splitting \",alist)\n",
    "    if len(alist)>1:\n",
    "        mid = len(alist)//2\n",
    "        lefthalf = alist[:mid]  # разделяем список на два списка по срередине\n",
    "        righthalf = alist[mid:]\n",
    "\n",
    "        mergeSort(lefthalf)  # и поторяем рекурсией для каждоко списка\n",
    "        mergeSort(righthalf)\n",
    "        \n",
    "        # теперь слияние двух меньших сортированных списков в больший\n",
    "        i=0\n",
    "        j=0\n",
    "        k=0\n",
    "        while i<len(lefthalf) and j<len(righthalf):\n",
    "            if lefthalf[i]<righthalf[j]:\n",
    "                alist[k]=lefthalf[i]\n",
    "                i=i+1\n",
    "            else:\n",
    "                alist[k]=righthalf[j]\n",
    "                j=j+1\n",
    "            k=k+1\n",
    "\n",
    "        while i<len(lefthalf):\n",
    "            alist[k]=lefthalf[i]\n",
    "            i=i+1\n",
    "            k=k+1\n",
    "\n",
    "        while j<len(righthalf):\n",
    "            alist[k]=righthalf[j]\n",
    "            j=j+1\n",
    "            k=k+1\n",
    "    print(\"Merging \",alist)\n",
    "\n",
    "alist = [54,26,93,17,77,31,44,55,20]\n",
    "#mergeSort(alist)\n",
    "#print(alist)"
   ]
  },
  {
   "cell_type": "markdown",
   "metadata": {},
   "source": [
    "# Сортировка выбором"
   ]
  },
  {
   "cell_type": "raw",
   "metadata": {},
   "source": [
    "O(n*n)\n",
    "1.Найти наименьшее значение в списке.\n",
    "2.Записать его в начало списка, а первый элемент - на место, где раньше стоял наименьший.\n",
    "3.Снова найти наименьший элемент в списке. При этом в поиске не участвует первый элемент.\n",
    "4.Второй минимум поместить на второе место списка. Второй элемент при этом перемещается на освободившееся место.\n",
    "5.Продолжать выполнять поиcк и обмен, пока не будет достигнут конец списка."
   ]
  },
  {
   "cell_type": "code",
   "execution_count": 22,
   "metadata": {},
   "outputs": [
    {
     "name": "stdout",
     "output_type": "stream",
     "text": [
      "[1, 2, 2, 4, 5, 7]\n"
     ]
    }
   ],
   "source": [
    "def selection_sort(nums):  \n",
    "    for i in range(len(nums)):\n",
    "        # предполагаем, что первый элемент несортированного сегмента является наименьшим\n",
    "        lowest_value_index = i\n",
    "        # перебирает несортированные элементы\n",
    "        for j in range(i + 1, len(nums)):\n",
    "            if nums[j] < nums[lowest_value_index]:\n",
    "                lowest_value_index = j\n",
    "        # Поменять местами значения самого низкого несортированного элемента с первым несортированным\n",
    "        nums[i], nums[lowest_value_index] = nums[lowest_value_index], nums[i]\n",
    "selection_sort(nums)  \n",
    "print(nums) "
   ]
  },
  {
   "cell_type": "markdown",
   "metadata": {},
   "source": [
    "# Сортировка пузырьком"
   ]
  },
  {
   "cell_type": "raw",
   "metadata": {},
   "source": [
    "*последовательного сравнения и обмена соседних элементов, если предшествующий оказывается больше последующего\n",
    "*скорость O(n*n)"
   ]
  },
  {
   "cell_type": "code",
   "execution_count": 43,
   "metadata": {},
   "outputs": [
    {
     "name": "stdout",
     "output_type": "stream",
     "text": [
      "[1, 2, 8, 56]\n"
     ]
    }
   ],
   "source": [
    "n = [1,8,2,56]\n",
    "def bubble(array):\n",
    "    for i in range(len(array)-1):\n",
    "        for j in range(len(array)-1-i):\n",
    "            if array[j] > array [j+1]:\n",
    "                b = array[j]\n",
    "                array[j] = array [j + 1]\n",
    "                array[j+1] = b\n",
    "bubble(n)\n",
    "print(n)"
   ]
  },
  {
   "cell_type": "code",
   "execution_count": 44,
   "metadata": {},
   "outputs": [
    {
     "name": "stdout",
     "output_type": "stream",
     "text": [
      "[2, 3, 8, 22]\n"
     ]
    }
   ],
   "source": [
    "nn = [3,8,2,22]\n",
    "def bubble2(array):\n",
    "    for i in range(len(array)-1):\n",
    "        for j in range(len(array)-i-1):\n",
    "            if a[j] > a[j+1]:\n",
    "                a[j], a[j+1] = a[j+1], a[j]\n",
    "bubble(nn)\n",
    "print(nn)"
   ]
  },
  {
   "cell_type": "markdown",
   "metadata": {},
   "source": [
    "# Бинарный поиск"
   ]
  },
  {
   "cell_type": "raw",
   "metadata": {},
   "source": [
    "*В упорядоченном по возрастанию массиве целых чисел найти определенный элемент (указать его индекс)\n",
    "1.Находится средний элемент последовательности. Для этого первый и последний индексы связываются с переменными, а индекс среднего элемента вычисляется. \n",
    "2.Значение среднего элемента сравнивается с искомым значение. В зависимости от того, больше оно или меньше значения среднего элемента, дальнейший поиск будет происходить только в левой или только в правой половинах массива. Если значение среднего элемента оказывается равным искомому, поиск завершается.\n",
    "3.Иначе одна из границ исследуемой последовательности сдвигается. Если искомое значение больше значения среднего элемента, то нижняя граница сдвигается за средний элемент на один элемент справа. Если искомое значение меньше значения среднего элемента, то верхняя граница сдвигается на элемент перед средним.\n",
    "4.Снова находится средний элемент теперь уже в выбранной половине. Описанный выше алгоритм повторяется для данного среза."
   ]
  },
  {
   "cell_type": "code",
   "execution_count": 118,
   "metadata": {},
   "outputs": [
    {
     "name": "stdout",
     "output_type": "stream",
     "text": [
      "[6, 9, 13, 16, 22, 23, 24, 28, 28, 29, 32, 34, 34, 35, 44]\n",
      "13\n",
      "ID = 2\n"
     ]
    }
   ],
   "source": [
    "a = [6, 9, 13, 16, 22, 23, 24, 28, 28, 29, 32, 34, 34, 35, 44]\n",
    "\n",
    "print(a)\n",
    "value = int(input())\n",
    "mid = len(a) // 2 # Находится средний элемент последовательности\n",
    "low = 0\n",
    "high = len(a) - 1\n",
    " \n",
    "while a[mid] != value and low <= high: \n",
    "    if value > a[mid]:\n",
    "        low = mid + 1\n",
    "    else:\n",
    "        high = mid - 1\n",
    "    mid = (low + high) // 2\n",
    " \n",
    "if low > high:\n",
    "    print(\"No value\")\n",
    "else:\n",
    "    print(\"ID =\", mid)"
   ]
  },
  {
   "cell_type": "markdown",
   "metadata": {},
   "source": [
    "## Дано число. Найти сумму и произведение его цифр."
   ]
  },
  {
   "cell_type": "code",
   "execution_count": 119,
   "metadata": {},
   "outputs": [
    {
     "name": "stdout",
     "output_type": "stream",
     "text": [
      "22\n",
      "4\n",
      "4\n"
     ]
    }
   ],
   "source": [
    "n = input()\n",
    "suma = 0\n",
    "mult = 1\n",
    "for i in n:\n",
    "    suma += int(i)\n",
    "    mult *= int(i)\n",
    " \n",
    "print(suma)\n",
    "print(mult)"
   ]
  },
  {
   "cell_type": "markdown",
   "metadata": {},
   "source": [
    "# Нахождение факториала рекурсией\n"
   ]
  },
  {
   "cell_type": "code",
   "execution_count": 120,
   "metadata": {},
   "outputs": [
    {
     "name": "stdout",
     "output_type": "stream",
     "text": [
      "120\n"
     ]
    }
   ],
   "source": [
    "def fac(n):\n",
    "    if n == 0:\n",
    "        return 1\n",
    "    return fac(n-1) * n\n",
    "print(fac(5))"
   ]
  },
  {
   "cell_type": "markdown",
   "metadata": {},
   "source": [
    "# Числа Фибоначчи\n",
    "Числа Фибоначчи – это ряд чисел, в котором каждое следующее число равно сумме двух предыдущих\n",
    "Если n = 1 или n = 2, вернуть в вызывающую ветку единицу, так как первый и второй элементы ряда Фибоначчи равны единице.\n",
    "Во всех остальных случаях вызвать эту же функцию с аргументами n - 1 и n - 2. Результат двух вызовов сложить и вернуть в вызывающую ветку программы."
   ]
  },
  {
   "cell_type": "code",
   "execution_count": 122,
   "metadata": {},
   "outputs": [
    {
     "name": "stdout",
     "output_type": "stream",
     "text": [
      "2\n"
     ]
    }
   ],
   "source": [
    "def fibonacci(n): # Вычисление n-го числа ряда Фибоначчи\n",
    "    if n in (1, 2):\n",
    "        return 1\n",
    "    return fibonacci(n - 1) + fibonacci(n - 2)\n",
    " \n",
    "print(fibonacci(3))"
   ]
  },
  {
   "cell_type": "markdown",
   "metadata": {},
   "source": [
    "# нахождение наибольшего общего делителя"
   ]
  },
  {
   "cell_type": "code",
   "execution_count": 128,
   "metadata": {},
   "outputs": [
    {
     "name": "stdout",
     "output_type": "stream",
     "text": [
      "129\n"
     ]
    }
   ],
   "source": [
    "def gcd(a, b):\n",
    "    while a != 0 and b != 0:\n",
    "        if a > b:\n",
    "            a = a % b\n",
    "        else:\n",
    "            b = b % a\n",
    "    print(a + b)\n",
    "\n",
    "    \n",
    "gcd (129,129)\n"
   ]
  }
 ],
 "metadata": {
  "kernelspec": {
   "display_name": "Python 3",
   "language": "python",
   "name": "python3"
  },
  "language_info": {
   "codemirror_mode": {
    "name": "ipython",
    "version": 3
   },
   "file_extension": ".py",
   "mimetype": "text/x-python",
   "name": "python",
   "nbconvert_exporter": "python",
   "pygments_lexer": "ipython3",
   "version": "3.6.8"
  }
 },
 "nbformat": 4,
 "nbformat_minor": 2
}
