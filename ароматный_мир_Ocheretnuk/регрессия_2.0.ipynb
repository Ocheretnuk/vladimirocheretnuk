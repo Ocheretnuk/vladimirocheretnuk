{
 "cells": [
  {
   "cell_type": "code",
   "execution_count": null,
   "metadata": {},
   "outputs": [],
   "source": [
    "продолжение задания на регрессию"
   ]
  },
  {
   "cell_type": "code",
   "execution_count": 283,
   "metadata": {
    "scrolled": false
   },
   "outputs": [
    {
     "data": {
      "text/html": [
       "<div>\n",
       "<style scoped>\n",
       "    .dataframe tbody tr th:only-of-type {\n",
       "        vertical-align: middle;\n",
       "    }\n",
       "\n",
       "    .dataframe tbody tr th {\n",
       "        vertical-align: top;\n",
       "    }\n",
       "\n",
       "    .dataframe thead th {\n",
       "        text-align: right;\n",
       "    }\n",
       "</style>\n",
       "<table border=\"1\" class=\"dataframe\">\n",
       "  <thead>\n",
       "    <tr style=\"text-align: right;\">\n",
       "      <th></th>\n",
       "      <th>rev_am</th>\n",
       "      <th>org_id</th>\n",
       "      <th>reg_id</th>\n",
       "      <th>district_id</th>\n",
       "      <th>days open</th>\n",
       "      <th>cluster</th>\n",
       "      <th>count</th>\n",
       "      <th>rev_k1</th>\n",
       "      <th>rev_k3</th>\n",
       "      <th>cat3_k2</th>\n",
       "      <th>cat4_k1</th>\n",
       "      <th>cat1_k3</th>\n",
       "      <th>cat4_k3</th>\n",
       "      <th>cat3_k3</th>\n",
       "    </tr>\n",
       "  </thead>\n",
       "  <tbody>\n",
       "    <tr>\n",
       "      <td>0</td>\n",
       "      <td>0.271793</td>\n",
       "      <td>1</td>\n",
       "      <td>1</td>\n",
       "      <td>1</td>\n",
       "      <td>7306</td>\n",
       "      <td>119</td>\n",
       "      <td>52</td>\n",
       "      <td>0.463816</td>\n",
       "      <td>0.558165</td>\n",
       "      <td>0.294530</td>\n",
       "      <td>0.204146</td>\n",
       "      <td>0.621938</td>\n",
       "      <td>0.290341</td>\n",
       "      <td>0.279691</td>\n",
       "    </tr>\n",
       "    <tr>\n",
       "      <td>1</td>\n",
       "      <td>0.419363</td>\n",
       "      <td>1</td>\n",
       "      <td>1</td>\n",
       "      <td>3</td>\n",
       "      <td>7189</td>\n",
       "      <td>156</td>\n",
       "      <td>3</td>\n",
       "      <td>0.468756</td>\n",
       "      <td>0.000000</td>\n",
       "      <td>0.000000</td>\n",
       "      <td>0.195983</td>\n",
       "      <td>0.175030</td>\n",
       "      <td>0.130655</td>\n",
       "      <td>0.069799</td>\n",
       "    </tr>\n",
       "    <tr>\n",
       "      <td>2</td>\n",
       "      <td>0.407493</td>\n",
       "      <td>1</td>\n",
       "      <td>1</td>\n",
       "      <td>2</td>\n",
       "      <td>7159</td>\n",
       "      <td>129</td>\n",
       "      <td>27</td>\n",
       "      <td>0.432768</td>\n",
       "      <td>0.561541</td>\n",
       "      <td>0.296725</td>\n",
       "      <td>0.313573</td>\n",
       "      <td>0.484975</td>\n",
       "      <td>0.313573</td>\n",
       "      <td>0.242499</td>\n",
       "    </tr>\n",
       "    <tr>\n",
       "      <td>3</td>\n",
       "      <td>0.482371</td>\n",
       "      <td>1</td>\n",
       "      <td>1</td>\n",
       "      <td>5</td>\n",
       "      <td>7111</td>\n",
       "      <td>167</td>\n",
       "      <td>3</td>\n",
       "      <td>0.429428</td>\n",
       "      <td>0.582500</td>\n",
       "      <td>0.000000</td>\n",
       "      <td>0.940338</td>\n",
       "      <td>0.269041</td>\n",
       "      <td>0.940338</td>\n",
       "      <td>0.102073</td>\n",
       "    </tr>\n",
       "    <tr>\n",
       "      <td>4</td>\n",
       "      <td>0.271793</td>\n",
       "      <td>1</td>\n",
       "      <td>1</td>\n",
       "      <td>1</td>\n",
       "      <td>7054</td>\n",
       "      <td>119</td>\n",
       "      <td>52</td>\n",
       "      <td>0.463816</td>\n",
       "      <td>0.558165</td>\n",
       "      <td>0.294530</td>\n",
       "      <td>0.204146</td>\n",
       "      <td>0.621938</td>\n",
       "      <td>0.290341</td>\n",
       "      <td>0.279691</td>\n",
       "    </tr>\n",
       "  </tbody>\n",
       "</table>\n",
       "</div>"
      ],
      "text/plain": [
       "     rev_am  org_id  reg_id  district_id  days open  cluster  count    rev_k1  \\\n",
       "0  0.271793       1       1            1       7306      119     52  0.463816   \n",
       "1  0.419363       1       1            3       7189      156      3  0.468756   \n",
       "2  0.407493       1       1            2       7159      129     27  0.432768   \n",
       "3  0.482371       1       1            5       7111      167      3  0.429428   \n",
       "4  0.271793       1       1            1       7054      119     52  0.463816   \n",
       "\n",
       "     rev_k3   cat3_k2   cat4_k1   cat1_k3   cat4_k3   cat3_k3  \n",
       "0  0.558165  0.294530  0.204146  0.621938  0.290341  0.279691  \n",
       "1  0.000000  0.000000  0.195983  0.175030  0.130655  0.069799  \n",
       "2  0.561541  0.296725  0.313573  0.484975  0.313573  0.242499  \n",
       "3  0.582500  0.000000  0.940338  0.269041  0.940338  0.102073  \n",
       "4  0.558165  0.294530  0.204146  0.621938  0.290341  0.279691  "
      ]
     },
     "execution_count": 283,
     "metadata": {},
     "output_type": "execute_result"
    }
   ],
   "source": [
    "import pandas as pd\n",
    "import numpy as np\n",
    "import pandas as pd\n",
    "from sklearn.model_selection import GridSearchCV\n",
    "from sklearn.ensemble import RandomForestRegressor # пробуем случайный лес\n",
    "from sklearn.model_selection import cross_val_score\n",
    "from sklearn.model_selection import train_test_split\n",
    "import seaborn as sns\n",
    "\n",
    "\n",
    "data = pd.read_csv('data_regression_test.csv',sep=';')\n",
    "data = data.drop(['mag_id','cat4_k2','count_am','count_k2','count_k1','count_k3','lat','lon'], axis=1)\n",
    "data = data.drop(['cat1_k1','cat2_k1','cat3_k1','cat1_k2','cat2_k2','rev_k2','cat2_k3'], axis=1)\n",
    "\n",
    "\n",
    "Y = data['rev_am']   # \n",
    "X = data.drop('rev_am', axis=1) #признаки\n",
    "\n",
    "data.head(5)\n",
    "\n"
   ]
  },
  {
   "cell_type": "code",
   "execution_count": 233,
   "metadata": {},
   "outputs": [],
   "source": [
    "X_train, X_test, y_train, y_test = train_test_split(X, Y, test_size=0.2)\n"
   ]
  },
  {
   "cell_type": "markdown",
   "metadata": {},
   "source": [
    "# кросс-валидация и подбор параметров"
   ]
  },
  {
   "cell_type": "markdown",
   "metadata": {},
   "source": [
    "\n",
    "\n",
    "\n",
    "для построения модели есть смысл подкрутить некоторые параметры, , чтобы как-то влиять на точность и адаптировать алгоритм. например по умолчанию строит на столько глубокое дерево, насколько позволяет набор данных и модель может переобучится на данной выборке.\n",
    "\n",
    "В качестве критерия \"наилучшего\" классификатора можно использовать кросс-валидацию.\n",
    "для RandomForestRegressor будем рассматривать данные параметры:\n",
    "\n",
    "1. n_estimators — кол-во деревьев \n",
    "2. max_depth — макс глубина дерева\n",
    "\n",
    "Сначала посмотрим на эти параметры вместе, потом отдельно, затем используем grid search"
   ]
  },
  {
   "cell_type": "markdown",
   "metadata": {},
   "source": [
    "обучившись на одних и тех-же данных несколько раз — подход будет предсказывать немного разные значения с разными вероятностями т.к. выборка ансамбля решающих деревьев происходит случайным образом."
   ]
  },
  {
   "cell_type": "code",
   "execution_count": 245,
   "metadata": {},
   "outputs": [
    {
     "data": {
      "text/html": [
       "<div>\n",
       "<style scoped>\n",
       "    .dataframe tbody tr th:only-of-type {\n",
       "        vertical-align: middle;\n",
       "    }\n",
       "\n",
       "    .dataframe tbody tr th {\n",
       "        vertical-align: top;\n",
       "    }\n",
       "\n",
       "    .dataframe thead th {\n",
       "        text-align: right;\n",
       "    }\n",
       "</style>\n",
       "<table border=\"1\" class=\"dataframe\">\n",
       "  <thead>\n",
       "    <tr style=\"text-align: right;\">\n",
       "      <th></th>\n",
       "      <th>max_depth</th>\n",
       "      <th>train_score</th>\n",
       "      <th>test_score</th>\n",
       "      <th>mean_cross_val_score</th>\n",
       "    </tr>\n",
       "  </thead>\n",
       "  <tbody>\n",
       "    <tr>\n",
       "      <td>0</td>\n",
       "      <td>1</td>\n",
       "      <td>0.363263</td>\n",
       "      <td>0.587087</td>\n",
       "      <td>0.306905</td>\n",
       "    </tr>\n",
       "    <tr>\n",
       "      <td>0</td>\n",
       "      <td>2</td>\n",
       "      <td>0.522100</td>\n",
       "      <td>0.594973</td>\n",
       "      <td>0.361738</td>\n",
       "    </tr>\n",
       "    <tr>\n",
       "      <td>0</td>\n",
       "      <td>3</td>\n",
       "      <td>0.645264</td>\n",
       "      <td>0.541703</td>\n",
       "      <td>0.389602</td>\n",
       "    </tr>\n",
       "    <tr>\n",
       "      <td>0</td>\n",
       "      <td>4</td>\n",
       "      <td>0.748769</td>\n",
       "      <td>0.558785</td>\n",
       "      <td>0.408359</td>\n",
       "    </tr>\n",
       "    <tr>\n",
       "      <td>0</td>\n",
       "      <td>5</td>\n",
       "      <td>0.807595</td>\n",
       "      <td>0.563391</td>\n",
       "      <td>0.420537</td>\n",
       "    </tr>\n",
       "  </tbody>\n",
       "</table>\n",
       "</div>"
      ],
      "text/plain": [
       "   max_depth  train_score  test_score  mean_cross_val_score\n",
       "0          1     0.363263    0.587087              0.306905\n",
       "0          2     0.522100    0.594973              0.361738\n",
       "0          3     0.645264    0.541703              0.389602\n",
       "0          4     0.748769    0.558785              0.408359\n",
       "0          5     0.807595    0.563391              0.420537"
      ]
     },
     "execution_count": 245,
     "metadata": {},
     "output_type": "execute_result"
    }
   ],
   "source": [
    "max_depth_value = range(1, 100) \n",
    "# перебираем значения для глубины от 0 до 100 и для каждого считаем значения смотрим показатель \n",
    "# для обучающей выборки, для тестовой и среднего при кросс-валидации\n",
    "scores_data = pd.DataFrame()\n",
    "for max_depth in max_depth_value:\n",
    "    clf = RandomForestRegressor(max_depth = max_depth)\n",
    "\n",
    "    clf.fit(X_train, y_train)\n",
    "    train_score = clf.score(X_train, y_train)\n",
    "    test_score = clf.score(X_test, y_test)\n",
    "    \n",
    "    mean_cross_val_score = cross_val_score(clf, X_train, y_train, cv=5).mean()\n",
    "#     print(mean_cross_val_score)\n",
    "    \n",
    "    temp_scores_data = pd.DataFrame({'max_depth': [max_depth], \n",
    "                                     'train_score': [train_score], \n",
    "                                     'test_score': [test_score],\n",
    "                                     'mean_cross_val_score': [mean_cross_val_score]})\n",
    "    scores_data = scores_data.append(temp_scores_data)\n",
    "scores_data.head()\n"
   ]
  },
  {
   "cell_type": "code",
   "execution_count": 251,
   "metadata": {},
   "outputs": [
    {
     "name": "stdout",
     "output_type": "stream",
     "text": [
      "максимальное значение mean_cross_val_score поличлось при значении:\n"
     ]
    },
    {
     "data": {
      "text/html": [
       "<div>\n",
       "<style scoped>\n",
       "    .dataframe tbody tr th:only-of-type {\n",
       "        vertical-align: middle;\n",
       "    }\n",
       "\n",
       "    .dataframe tbody tr th {\n",
       "        vertical-align: top;\n",
       "    }\n",
       "\n",
       "    .dataframe thead th {\n",
       "        text-align: right;\n",
       "    }\n",
       "</style>\n",
       "<table border=\"1\" class=\"dataframe\">\n",
       "  <thead>\n",
       "    <tr style=\"text-align: right;\">\n",
       "      <th></th>\n",
       "      <th>max_depth</th>\n",
       "      <th>train_score</th>\n",
       "      <th>test_score</th>\n",
       "      <th>mean_cross_val_score</th>\n",
       "    </tr>\n",
       "  </thead>\n",
       "  <tbody>\n",
       "    <tr>\n",
       "      <td>0</td>\n",
       "      <td>68</td>\n",
       "      <td>0.925122</td>\n",
       "      <td>0.635804</td>\n",
       "      <td>0.483688</td>\n",
       "    </tr>\n",
       "  </tbody>\n",
       "</table>\n",
       "</div>"
      ],
      "text/plain": [
       "   max_depth  train_score  test_score  mean_cross_val_score\n",
       "0         68     0.925122    0.635804              0.483688"
      ]
     },
     "execution_count": 251,
     "metadata": {},
     "output_type": "execute_result"
    },
    {
     "data": {
      "image/png": "[encoded data removed]",
      "text/plain": [
       "<Figure size 720x576 with 1 Axes>"
      ]
     },
     "metadata": {
      "needs_background": "light"
     },
     "output_type": "display_data"
    }
   ],
   "source": [
    "plt.figure(figsize=(10,8))\n",
    "sns.lineplot(x='max_depth', y='test_score', data=scores_data);\n",
    "sns.lineplot(x='max_depth', y='train_score', data=scores_data);\n",
    "sns.lineplot(x='max_depth', y='mean_cross_val_score', data=scores_data);\n",
    "print('максимальное значение mean_cross_val_score поличлось при значении:')\n",
    "scores_data.sort_values(by='mean_cross_val_score', ascending=False).head(1)"
   ]
  },
  {
   "cell_type": "code",
   "execution_count": 252,
   "metadata": {},
   "outputs": [
    {
     "data": {
      "text/html": [
       "<div>\n",
       "<style scoped>\n",
       "    .dataframe tbody tr th:only-of-type {\n",
       "        vertical-align: middle;\n",
       "    }\n",
       "\n",
       "    .dataframe tbody tr th {\n",
       "        vertical-align: top;\n",
       "    }\n",
       "\n",
       "    .dataframe thead th {\n",
       "        text-align: right;\n",
       "    }\n",
       "</style>\n",
       "<table border=\"1\" class=\"dataframe\">\n",
       "  <thead>\n",
       "    <tr style=\"text-align: right;\">\n",
       "      <th></th>\n",
       "      <th>n_estimators</th>\n",
       "      <th>train_score</th>\n",
       "      <th>test_score</th>\n",
       "      <th>mean_cross_val_score</th>\n",
       "    </tr>\n",
       "  </thead>\n",
       "  <tbody>\n",
       "    <tr>\n",
       "      <td>0</td>\n",
       "      <td>1</td>\n",
       "      <td>0.726969</td>\n",
       "      <td>0.043267</td>\n",
       "      <td>-0.124202</td>\n",
       "    </tr>\n",
       "    <tr>\n",
       "      <td>0</td>\n",
       "      <td>2</td>\n",
       "      <td>0.804610</td>\n",
       "      <td>0.122781</td>\n",
       "      <td>0.259934</td>\n",
       "    </tr>\n",
       "    <tr>\n",
       "      <td>0</td>\n",
       "      <td>3</td>\n",
       "      <td>0.827831</td>\n",
       "      <td>0.153957</td>\n",
       "      <td>0.221098</td>\n",
       "    </tr>\n",
       "    <tr>\n",
       "      <td>0</td>\n",
       "      <td>4</td>\n",
       "      <td>0.911834</td>\n",
       "      <td>0.582009</td>\n",
       "      <td>0.252942</td>\n",
       "    </tr>\n",
       "    <tr>\n",
       "      <td>0</td>\n",
       "      <td>5</td>\n",
       "      <td>0.834797</td>\n",
       "      <td>0.495123</td>\n",
       "      <td>0.365458</td>\n",
       "    </tr>\n",
       "  </tbody>\n",
       "</table>\n",
       "</div>"
      ],
      "text/plain": [
       "   n_estimators  train_score  test_score  mean_cross_val_score\n",
       "0             1     0.726969    0.043267             -0.124202\n",
       "0             2     0.804610    0.122781              0.259934\n",
       "0             3     0.827831    0.153957              0.221098\n",
       "0             4     0.911834    0.582009              0.252942\n",
       "0             5     0.834797    0.495123              0.365458"
      ]
     },
     "execution_count": 252,
     "metadata": {},
     "output_type": "execute_result"
    }
   ],
   "source": [
    "n_estimators_value = range(1, 100)\n",
    "scores_data = pd.DataFrame()\n",
    "for n_estimators in n_estimators_value:\n",
    "    clf = RandomForestRegressor(max_depth = 15, n_estimators = n_estimators)\n",
    "\n",
    "    clf.fit(X_train, y_train)\n",
    "    train_score = clf.score(X_train, y_train)\n",
    "    test_score = clf.score(X_test, y_test)\n",
    "    \n",
    "    mean_cross_val_score = cross_val_score(clf, X_train, y_train, cv=5).mean()\n",
    "#     print(mean_cross_val_score)\n",
    "    \n",
    "    temp_scores_data = pd.DataFrame({'n_estimators': [n_estimators], \n",
    "                                     'train_score': [train_score], \n",
    "                                     'test_score': [test_score],\n",
    "                                     'mean_cross_val_score': [mean_cross_val_score]})\n",
    "    scores_data = scores_data.append(temp_scores_data)\n",
    "scores_data.head()"
   ]
  },
  {
   "cell_type": "code",
   "execution_count": 253,
   "metadata": {
    "scrolled": false
   },
   "outputs": [
    {
     "name": "stdout",
     "output_type": "stream",
     "text": [
      "максимальное значение mean_cross_val_score поличлось при значении:\n"
     ]
    },
    {
     "data": {
      "text/html": [
       "<div>\n",
       "<style scoped>\n",
       "    .dataframe tbody tr th:only-of-type {\n",
       "        vertical-align: middle;\n",
       "    }\n",
       "\n",
       "    .dataframe tbody tr th {\n",
       "        vertical-align: top;\n",
       "    }\n",
       "\n",
       "    .dataframe thead th {\n",
       "        text-align: right;\n",
       "    }\n",
       "</style>\n",
       "<table border=\"1\" class=\"dataframe\">\n",
       "  <thead>\n",
       "    <tr style=\"text-align: right;\">\n",
       "      <th></th>\n",
       "      <th>n_estimators</th>\n",
       "      <th>train_score</th>\n",
       "      <th>test_score</th>\n",
       "      <th>mean_cross_val_score</th>\n",
       "    </tr>\n",
       "  </thead>\n",
       "  <tbody>\n",
       "    <tr>\n",
       "      <td>0</td>\n",
       "      <td>68</td>\n",
       "      <td>0.928986</td>\n",
       "      <td>0.590558</td>\n",
       "      <td>0.491752</td>\n",
       "    </tr>\n",
       "  </tbody>\n",
       "</table>\n",
       "</div>"
      ],
      "text/plain": [
       "   n_estimators  train_score  test_score  mean_cross_val_score\n",
       "0            68     0.928986    0.590558              0.491752"
      ]
     },
     "execution_count": 253,
     "metadata": {},
     "output_type": "execute_result"
    },
    {
     "data": {
      "image/png": "[encoded data removed]",
      "text/plain": [
       "<Figure size 720x576 with 1 Axes>"
      ]
     },
     "metadata": {
      "needs_background": "light"
     },
     "output_type": "display_data"
    }
   ],
   "source": [
    "plt.figure(figsize=(10,8))\n",
    "sns.lineplot(x='n_estimators', y='test_score', data=scores_data);\n",
    "sns.lineplot(x='n_estimators', y='train_score', data=scores_data);\n",
    "sns.lineplot(x='n_estimators', y='mean_cross_val_score', data=scores_data);\n",
    "print('максимальное значение mean_cross_val_score поличлось при значении:')\n",
    "scores_data.sort_values(by='mean_cross_val_score', ascending=False).head(1)"
   ]
  },
  {
   "cell_type": "markdown",
   "metadata": {},
   "source": [
    "Но лучше все-таки оценивать эти два параметра вместе, \n",
    "будем смотреть для смотреть среднюю точность для 5 фолдов"
   ]
  },
  {
   "cell_type": "code",
   "execution_count": 149,
   "metadata": {},
   "outputs": [
    {
     "name": "stderr",
     "output_type": "stream",
     "text": [
      "100%|██████████| 20/20 [09:18<00:00, 27.92s/it]\n"
     ]
    }
   ],
   "source": [
    "from tqdm import tqdm\n",
    "\n",
    "\n",
    "df = pd.DataFrame({       # здесь будем хранить полученные значения\n",
    "    'n_estimators':[],\n",
    "    'max_depth':[],\n",
    "    'mean_score':[]\n",
    "})\n",
    "i1=[]\n",
    "i2=[]\n",
    "i3=[]\n",
    "for i in tqdm(range(5,101,5)):        # генертруем n_estimators от 5 до 100 с шагом 5 (очень долго считается)\n",
    "    for j in range(5,101,5):    # генертруем max_depth\n",
    "        model = RandomForestRegressor(n_estimators=i,max_depth = j,n_jobs=-1) # для модели вставляем сгенированные параметры\n",
    "#разбиваем на пять подмножества / фолда, получаем точность для каждого, а потом смотрим на их среднее\n",
    "        p = cross_val_score(model, X, Y, cv=5).mean() \n",
    "        i1.append(i)\n",
    "        i2.append(j)\n",
    "        i3.append(p)\n",
    "for i in range (len(i1)):    #заполняем data  значениеми из списка\n",
    "    df.loc[len(df)] = [i1[i],i2[i],i3[i]]"
   ]
  },
  {
   "cell_type": "markdown",
   "metadata": {},
   "source": [
    "получили табличку где каждого значения n_estimators и max_depth получили среднее значение точности \n",
    "для 5 разных разбиений на выборки (для теста и для тренировки модели)"
   ]
  },
  {
   "cell_type": "code",
   "execution_count": 157,
   "metadata": {},
   "outputs": [
    {
     "data": {
      "text/html": [
       "<div>\n",
       "<style scoped>\n",
       "    .dataframe tbody tr th:only-of-type {\n",
       "        vertical-align: middle;\n",
       "    }\n",
       "\n",
       "    .dataframe tbody tr th {\n",
       "        vertical-align: top;\n",
       "    }\n",
       "\n",
       "    .dataframe thead th {\n",
       "        text-align: right;\n",
       "    }\n",
       "</style>\n",
       "<table border=\"1\" class=\"dataframe\">\n",
       "  <thead>\n",
       "    <tr style=\"text-align: right;\">\n",
       "      <th></th>\n",
       "      <th>n_estimators</th>\n",
       "      <th>max_depth</th>\n",
       "      <th>mean_score</th>\n",
       "    </tr>\n",
       "  </thead>\n",
       "  <tbody>\n",
       "    <tr>\n",
       "      <td>0</td>\n",
       "      <td>5.0</td>\n",
       "      <td>5.0</td>\n",
       "      <td>0.220594</td>\n",
       "    </tr>\n",
       "    <tr>\n",
       "      <td>1</td>\n",
       "      <td>5.0</td>\n",
       "      <td>10.0</td>\n",
       "      <td>0.224580</td>\n",
       "    </tr>\n",
       "    <tr>\n",
       "      <td>2</td>\n",
       "      <td>5.0</td>\n",
       "      <td>15.0</td>\n",
       "      <td>0.163840</td>\n",
       "    </tr>\n",
       "    <tr>\n",
       "      <td>3</td>\n",
       "      <td>5.0</td>\n",
       "      <td>20.0</td>\n",
       "      <td>0.265941</td>\n",
       "    </tr>\n",
       "    <tr>\n",
       "      <td>4</td>\n",
       "      <td>5.0</td>\n",
       "      <td>25.0</td>\n",
       "      <td>0.352671</td>\n",
       "    </tr>\n",
       "  </tbody>\n",
       "</table>\n",
       "</div>"
      ],
      "text/plain": [
       "   n_estimators  max_depth  mean_score\n",
       "0           5.0        5.0    0.220594\n",
       "1           5.0       10.0    0.224580\n",
       "2           5.0       15.0    0.163840\n",
       "3           5.0       20.0    0.265941\n",
       "4           5.0       25.0    0.352671"
      ]
     },
     "execution_count": 157,
     "metadata": {},
     "output_type": "execute_result"
    }
   ],
   "source": [
    "df.head(5)"
   ]
  },
  {
   "cell_type": "code",
   "execution_count": 163,
   "metadata": {},
   "outputs": [
    {
     "data": {
      "text/html": [
       "<div>\n",
       "<style scoped>\n",
       "    .dataframe tbody tr th:only-of-type {\n",
       "        vertical-align: middle;\n",
       "    }\n",
       "\n",
       "    .dataframe tbody tr th {\n",
       "        vertical-align: top;\n",
       "    }\n",
       "\n",
       "    .dataframe thead th {\n",
       "        text-align: right;\n",
       "    }\n",
       "</style>\n",
       "<table border=\"1\" class=\"dataframe\">\n",
       "  <thead>\n",
       "    <tr style=\"text-align: right;\">\n",
       "      <th></th>\n",
       "      <th>n_estimators</th>\n",
       "      <th>max_depth</th>\n",
       "      <th>mean_score</th>\n",
       "    </tr>\n",
       "  </thead>\n",
       "  <tbody>\n",
       "    <tr>\n",
       "      <td>23</td>\n",
       "      <td>10.0</td>\n",
       "      <td>20.0</td>\n",
       "      <td>0.425741</td>\n",
       "    </tr>\n",
       "  </tbody>\n",
       "</table>\n",
       "</div>"
      ],
      "text/plain": [
       "    n_estimators  max_depth  mean_score\n",
       "23          10.0       20.0    0.425741"
      ]
     },
     "execution_count": 163,
     "metadata": {},
     "output_type": "execute_result"
    }
   ],
   "source": [
    "# отсортируем по убыванию по колонке mean_score  и посмотрим на значения с макс знач mean_score\n",
    "df = df.sort_values(by='mean_score', ascending=False) \n",
    "df.head(1)"
   ]
  },
  {
   "cell_type": "markdown",
   "metadata": {},
   "source": [
    "Видим, что максимальное значение было при n_estimators = 10, max_depth  = 20"
   ]
  },
  {
   "cell_type": "markdown",
   "metadata": {},
   "source": [
    "# Подбор параметров с помощью grid search"
   ]
  },
  {
   "cell_type": "code",
   "execution_count": 69,
   "metadata": {},
   "outputs": [
    {
     "name": "stdout",
     "output_type": "stream",
     "text": [
      "[5, 10, 15, 20, 25, 30, 35, 40, 45, 50, 55, 60, 65, 70, 75, 80, 85, 90, 95, 100]\n",
      "Best params =  {'bootstrap': True, 'ccp_alpha': 0.0, 'criterion': 'mse', 'max_depth': 15, 'max_features': 'auto', 'max_leaf_nodes': None, 'max_samples': None, 'min_impurity_decrease': 0.0, 'min_impurity_split': None, 'min_samples_leaf': 1, 'min_samples_split': 2, 'min_weight_fraction_leaf': 0.0, 'n_estimators': 20, 'n_jobs': None, 'oob_score': False, 'random_state': None, 'verbose': 0, 'warm_start': False}\n"
     ]
    }
   ],
   "source": [
    "k = []\n",
    "for i in range(5,101,5): # генертруем список от 5 до 100 с шагом 5(беру шаг 5 т.к. долго считается)\n",
    "    k.append(i)\n",
    "print(k)\n",
    "parameter_grid = {'max_depth': k,        # будем смотреть для параметров max_depth(глубина дерева) \n",
    "                  'n_estimators': k}     # и n_estimators (кол-во деревьев)       \n",
    "clf = RandomForestRegressor() \n",
    "grid_searcher = GridSearchCV(clf, parameter_grid) \n",
    "grid_searcher.fit(X,Y) # обучаем модель для каждого набора параметров\n",
    "clf_best = grid_searcher.best_estimator_  # Смотрим при каких параметрах была максимальная точность \n",
    "print('Best params = ', clf_best.get_params())\n"
   ]
  },
  {
   "cell_type": "markdown",
   "metadata": {},
   "source": [
    "GridSearch определил, что при параметрах 'max_depth': 15, 'n_estimators': 20 наша модель лучше всего обучается\n",
    "\n",
    "В придыдущем примере значение было n_estimators = 10, max_depth  = 20\n",
    "\n",
    "Получились немного разные значения, т.к. RandomForestRegressor предсказывает немного разные значения с разными вероятностями т.к. выборка ансамбля решающих деревьев происходит случайным образом\n",
    "Вторая причина неточности, что был большой шаг =5, при значении шаг =1 вычисления бы длились бы несколько часов.\n",
    "\n"
   ]
  },
  {
   "cell_type": "markdown",
   "metadata": {},
   "source": [
    "# Добавим еще пару метрик качества\n",
    "метрики качества в задачах регрессии:\n",
    "\n",
    "средняя квадратичная ошибка, \n",
    "средняя абсолютная ошибка, \n",
    "коэффициент детерминации,\n",
    "квантильная ошибка"
   ]
  },
  {
   "cell_type": "code",
   "execution_count": 270,
   "metadata": {},
   "outputs": [
    {
     "data": {
      "text/plain": [
       "0.6942893152862081"
      ]
     },
     "execution_count": 270,
     "metadata": {},
     "output_type": "execute_result"
    }
   ],
   "source": [
    "X_train, X_test, y_train, y_test = train_test_split(X, Y, test_size=0.2)\n",
    "regressor = RandomForestRegressor(n_estimators=20,max_depth = 15,n_jobs=-1)\n",
    "regressor.fit(X_train,y_train)\n",
    "regressor.score(Xtest, Ytest) #точность"
   ]
  },
  {
   "cell_type": "code",
   "execution_count": 276,
   "metadata": {},
   "outputs": [],
   "source": [
    "y_predictions = regressor.predict(X_test)"
   ]
  },
  {
   "cell_type": "code",
   "execution_count": 277,
   "metadata": {},
   "outputs": [
    {
     "data": {
      "text/plain": [
       "0.044179054413912074"
      ]
     },
     "execution_count": 277,
     "metadata": {},
     "output_type": "execute_result"
    }
   ],
   "source": [
    "#средняя абсолютная ошибка\n",
    "metrics.mean_absolute_error(y_test, y_predictions)"
   ]
  },
  {
   "cell_type": "code",
   "execution_count": 278,
   "metadata": {},
   "outputs": [
    {
     "data": {
      "text/plain": [
       "0.009090374468071477"
      ]
     },
     "execution_count": 278,
     "metadata": {},
     "output_type": "execute_result"
    }
   ],
   "source": [
    "#средняя квадратичная ошибка\n",
    "metrics.mean_squared_error(y_test, y_predictions)"
   ]
  },
  {
   "cell_type": "code",
   "execution_count": 279,
   "metadata": {},
   "outputs": [
    {
     "data": {
      "text/plain": [
       "0.09534345529752673"
      ]
     },
     "execution_count": 279,
     "metadata": {},
     "output_type": "execute_result"
    }
   ],
   "source": [
    "#Среднеквадратичное отклонение\n",
    "sqrt(metrics.mean_squared_error(y_test, y_predictions))\n"
   ]
  },
  {
   "cell_type": "code",
   "execution_count": 280,
   "metadata": {},
   "outputs": [
    {
     "data": {
      "text/plain": [
       "0.5273946643099081"
      ]
     },
     "execution_count": 280,
     "metadata": {},
     "output_type": "execute_result"
    }
   ],
   "source": [
    "#Коэффициент детерминации (r2 score)\n",
    "metrics.r2_score(y_test, y_predictions)\n"
   ]
  },
  {
   "cell_type": "markdown",
   "metadata": {},
   "source": [
    "# Теперь посмотрим важность параметров для построения модели.\n",
    "То есть на то, какой признак внёс наибольший вклад в предсказания. У каких признаков наибольшая предсказательная способность.\n",
    "будем использовать feature_importances_"
   ]
  },
  {
   "cell_type": "code",
   "execution_count": 228,
   "metadata": {},
   "outputs": [
    {
     "name": "stdout",
     "output_type": "stream",
     "text": [
      "org_id = 0.2539219786334405\n",
      "reg_id = 0.12063004460161428\n",
      "district_id = 0.05182893320756816\n",
      "days open = 0.11434210945527555\n",
      "cluster = 0.05383274216861647\n",
      "count = 0.026607359585569493\n",
      "rev_k1 = 0.04191278713062029\n",
      "rev_k3 = 0.11901958477552367\n",
      "cat3_k2 = 0.022028098067675538\n",
      "cat4_k1 = 0.06517622554745463\n",
      "cat1_k3 = 0.032065566359417326\n",
      "cat4_k3 = 0.058354086192492424\n",
      "cat3_k3 = 0.04028048427473179\n"
     ]
    },
    {
     "data": {
      "image/png": "[encoded data removed]",
      "text/plain": [
       "<Figure size 432x288 with 1 Axes>"
      ]
     },
     "metadata": {
      "needs_background": "light"
     },
     "output_type": "display_data"
    }
   ],
   "source": [
    "model = RandomForestRegressor(n_estimators=20,max_depth = 15,n_jobs=-1) \n",
    "model.fit(X,Y) #обучаем\n",
    "\n",
    "for name, importance in zip(list(X), model.feature_importances_): #(чем выше, тем важнее функция) \n",
    "    print(name, \"=\", importance)\n",
    "\n",
    "\n",
    "\n",
    "features = list(X)\n",
    "importances = model.feature_importances_\n",
    "indices = np.argsort(importances)\n",
    "\n",
    "plt.title('Feature Importances')\n",
    "plt.barh(range(len(indices)), importances[indices], color='b', align='center')\n",
    "plt.yticks(range(len(indices)), [features[i] for i in indices])\n",
    "plt.xlabel('Relative Importance')\n",
    "plt.show()\n",
    "\n"
   ]
  },
  {
   "cell_type": "markdown",
   "metadata": {},
   "source": [
    "На графике отображены какой предикт какое влияние имелл на построенние модели"
   ]
  },
  {
   "cell_type": "code",
   "execution_count": null,
   "metadata": {},
   "outputs": [],
   "source": []
  },
  {
   "cell_type": "markdown",
   "metadata": {},
   "source": [
    "# Попробуем GradientBoostingRegressor\n",
    "выберем параметры из grid searcher\n",
    "посмотрим на показатели при разных выборках test и train"
   ]
  },
  {
   "cell_type": "code",
   "execution_count": 261,
   "metadata": {},
   "outputs": [
    {
     "name": "stderr",
     "output_type": "stream",
     "text": [
      "100%|██████████| 20/20 [00:00<00:00, 46759.24it/s]\n"
     ]
    },
    {
     "name": "stdout",
     "output_type": "stream",
     "text": [
      "[5, 10, 15, 20, 25, 30, 35, 40, 45, 50, 55, 60, 65, 70, 75, 80, 85, 90, 95, 100]\n",
      "Best params =  {'alpha': 0.9, 'ccp_alpha': 0.0, 'criterion': 'friedman_mse', 'init': None, 'learning_rate': 0.1, 'loss': 'ls', 'max_depth': 5, 'max_features': None, 'max_leaf_nodes': None, 'min_impurity_decrease': 0.0, 'min_impurity_split': None, 'min_samples_leaf': 1, 'min_samples_split': 2, 'min_weight_fraction_leaf': 0.0, 'n_estimators': 85, 'n_iter_no_change': None, 'presort': 'deprecated', 'random_state': None, 'subsample': 1.0, 'tol': 0.0001, 'validation_fraction': 0.1, 'verbose': 0, 'warm_start': False}\n"
     ]
    }
   ],
   "source": [
    "from sklearn.ensemble import GradientBoostingRegressor \n",
    "k = []\n",
    "for i in tqdm(range(5,101,5)): # генертруем список от 5 до 100 с шагом 5(беру шаг 5 т.к. долго считается)\n",
    "    k.append(i)\n",
    "print(k)\n",
    "parameter_grid = {'max_depth': k,        # будем смотреть для параметров max_depth(глубина дерева) \n",
    "                  'n_estimators': k}     # и n_estimators (кол-во деревьев)       \n",
    "clf = GradientBoostingRegressor() \n",
    "grid_searcher = GridSearchCV(clf, parameter_grid) \n",
    "grid_searcher.fit(X,Y) # обучаем модель для каждого набора параметров\n",
    "clf_best = grid_searcher.best_estimator_  # Смотрим при каких параметрах была максимальная точность \n",
    "print('Best params = ', clf_best.get_params())"
   ]
  },
  {
   "cell_type": "markdown",
   "metadata": {},
   "source": [
    "n_estimators': 85\n",
    "max_depth': 5"
   ]
  },
  {
   "cell_type": "code",
   "execution_count": 265,
   "metadata": {},
   "outputs": [
    {
     "data": {
      "text/plain": [
       "array([ 0.2465146 ,  0.67564896,  0.46973634,  0.72439735, -0.305725  ])"
      ]
     },
     "execution_count": 265,
     "metadata": {},
     "output_type": "execute_result"
    }
   ],
   "source": [
    "gb_model = GradientBoostingRegressor(n_estimators=85,max_depth = 5) \n",
    "cross_val_score(gb_model, X, Y, cv=5)"
   ]
  },
  {
   "cell_type": "code",
   "execution_count": 269,
   "metadata": {},
   "outputs": [
    {
     "name": "stdout",
     "output_type": "stream",
     "text": [
      "org_id = 0.37307771306809334\n",
      "reg_id = 0.007598020509858863\n",
      "district_id = 0.04789222619605821\n",
      "days open = 0.10968894045741898\n",
      "cluster = 0.1007099984558833\n",
      "count = 0.022501580495395697\n",
      "rev_k1 = 0.04006304735003232\n",
      "rev_k3 = 0.11138188073309806\n",
      "cat3_k2 = 0.02026104040584598\n",
      "cat4_k1 = 0.038772801723361124\n",
      "cat1_k3 = 0.05350109823052717\n",
      "cat4_k3 = 0.037471773784925576\n",
      "cat3_k3 = 0.03707987858950134\n"
     ]
    },
    {
     "data": {
      "image/png": "[encoded data removed]",
      "text/plain": [
       "<Figure size 432x288 with 1 Axes>"
      ]
     },
     "metadata": {
      "needs_background": "light"
     },
     "output_type": "display_data"
    }
   ],
   "source": [
    "gb_model = GradientBoostingRegressor(n_estimators=85,max_depth = 5) \n",
    "gb_model.fit(X,Y) #обучаем\n",
    "\n",
    "for name, importance in zip(list(X), gb_model.feature_importances_): #(чем выше, тем важнее функция) \n",
    "    print(name, \"=\", importance)\n",
    "features = list(X)\n",
    "importances = gb_model.feature_importances_\n",
    "indices = np.argsort(importances)\n",
    "plt.title('Feature Importances')\n",
    "plt.barh(range(len(indices)), importances[indices], color='b', align='center')\n",
    "plt.yticks(range(len(indices)), [features[i] for i in indices])\n",
    "plt.xlabel('Relative Importance')\n",
    "plt.show()\n"
   ]
  },
  {
   "cell_type": "code",
   "execution_count": null,
   "metadata": {},
   "outputs": [],
   "source": [
    "дальше можно по аналогии,\n",
    "если что-то не учел или забыл, можете указать, исправлю"
   ]
  }
 ],
 "metadata": {
  "kernelspec": {
   "display_name": "Python 3",
   "language": "python",
   "name": "python3"
  },
  "language_info": {
   "codemirror_mode": {
    "name": "ipython",
    "version": 3
   },
   "file_extension": ".py",
   "mimetype": "text/x-python",
   "name": "python",
   "nbconvert_exporter": "python",
   "pygments_lexer": "ipython3",
   "version": "3.6.8"
  }
 },
 "nbformat": 4,
 "nbformat_minor": 2
}
