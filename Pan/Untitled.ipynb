{
 "cells": [
  {
   "cell_type": "code",
   "execution_count": 1,
   "metadata": {},
   "outputs": [
    {
     "ename": "ModuleNotFoundError",
     "evalue": "No module named 'pandas'",
     "output_type": "error",
     "traceback": [
      "\u001b[0;31m---------------------------------------------------------------------------\u001b[0m",
      "\u001b[0;31mModuleNotFoundError\u001b[0m                       Traceback (most recent call last)",
      "\u001b[0;32m<ipython-input-1-258e1a1ede39>\u001b[0m in \u001b[0;36m<module>\u001b[0;34m\u001b[0m\n\u001b[0;32m----> 1\u001b[0;31m \u001b[0;32mimport\u001b[0m \u001b[0mpandas\u001b[0m \u001b[0;32mas\u001b[0m \u001b[0mpd\u001b[0m\u001b[0;34m\u001b[0m\u001b[0;34m\u001b[0m\u001b[0m\n\u001b[0m\u001b[1;32m      2\u001b[0m \u001b[0;34m\u001b[0m\u001b[0m\n\u001b[1;32m      3\u001b[0m \u001b[0;34m\u001b[0m\u001b[0m\n\u001b[1;32m      4\u001b[0m \u001b[0mdata\u001b[0m \u001b[0;34m=\u001b[0m \u001b[0mpd\u001b[0m\u001b[0;34m.\u001b[0m\u001b[0mread_csv\u001b[0m\u001b[0;34m(\u001b[0m\u001b[0;34m'power.csv'\u001b[0m\u001b[0;34m)\u001b[0m\u001b[0;34m\u001b[0m\u001b[0;34m\u001b[0m\u001b[0m\n\u001b[1;32m      5\u001b[0m \u001b[0;34m\u001b[0m\u001b[0m\n",
      "\u001b[0;31mModuleNotFoundError\u001b[0m: No module named 'pandas'"
     ]
    }
   ],
   "source": [
    "import pandas as pd\n",
    "\n",
    "\n",
    "data = pd.read_csv('power.csv')\n",
    "\n",
    "#Если в файле нет заголовка или разделителем является другой символ (например, табуляция),\n",
    "#то эти параметры можно указать при чтении файла\n",
    "\n",
    "#data = pd.read_csv('power.csv', names = ['country', 'year', 'quantity', 'category'], sep = '\\t')\n",
    "\n",
    "data.head() # первые пять строк\n",
    "\n",
    "data.tail(10) # указывает десять последних строк\n",
    "\n",
    "#len(data) # сколько строк\n"
   ]
  },
  {
   "cell_type": "code",
   "execution_count": 2,
   "metadata": {
    "collapsed": true
   },
   "outputs": [
    {
     "name": "stderr",
     "output_type": "stream",
     "text": [
      "UsageError: Can't use statement directly after '%%time'!\n"
     ]
    }
   ],
   "source": [
    "%%time #время выполнения кода \n",
    "data = pd.read_csv('power.csv')\n",
    "len(data)"
   ]
  },
  {
   "cell_type": "code",
   "execution_count": null,
   "metadata": {},
   "outputs": [],
   "source": [
    "import pandas as pd\n",
    "data = pd.read_csv('power.csv')\n",
    "\n",
    "data.info() # выводит инфу\n",
    "data.shape   # количество строк и столбцов датафрейма \n",
    "\n"
   ]
  },
  {
   "cell_type": "code",
   "execution_count": null,
   "metadata": {},
   "outputs": [],
   "source": [
    "data.describe() #Для числовых столбцов можно сразу узнать более детальную статист"
   ]
  },
  {
   "cell_type": "markdown",
   "metadata": {},
   "source": [
    "\"\"\"\n",
    "count - число непустых ячеек\n",
    "mean - среднее значение значений столбца\n",
    "std - стандартное отклонение\n",
    "min и max - минимальное и максимальное значение в столбце\n",
    "25%, 50%, 75% - квантили\n",
    "\"\"\""
   ]
  },
  {
   "cell_type": "code",
   "execution_count": null,
   "metadata": {},
   "outputs": [],
   "source": [
    "data['country'].unique() # какие значения вообще принимает столбец категорий"
   ]
  },
  {
   "cell_type": "code",
   "execution_count": null,
   "metadata": {
    "scrolled": true
   },
   "outputs": [],
   "source": [
    "len(data['country'].unique()) #точное их число "
   ]
  },
  {
   "cell_type": "code",
   "execution_count": null,
   "metadata": {},
   "outputs": [],
   "source": [
    "data['country'].value_counts() # сколько записей в датафрейме имеет каждая страна"
   ]
  },
  {
   "cell_type": "code",
   "execution_count": null,
   "metadata": {},
   "outputs": [],
   "source": [
    "data['quantity'].mean() \n",
    "sum(data['quantity']) / len(data)\n"
   ]
  },
  {
   "cell_type": "code",
   "execution_count": null,
   "metadata": {},
   "outputs": [],
   "source": [
    "country_stats = data.filter(items = ['country', 'quantity'])  #позволяет фильтровать датафрейм по столбцам и индексам \n",
    "country_stats.head()  "
   ]
  },
  {
   "cell_type": "code",
   "execution_count": null,
   "metadata": {},
   "outputs": [],
   "source": [
    "average_level = data['quantity'].mean()\n",
    "average_level\n",
    "\n",
    "country_stats.query('quantity > 184264.77005012965').head() # отфильтруем строки. \n",
    "#у которых значение столбца quantity превышает среднее потребление \n",
    "\n"
   ]
  },
  {
   "cell_type": "code",
   "execution_count": null,
   "metadata": {},
   "outputs": [],
   "source": [
    "'quantity > {}'.format(average_level)\n",
    "above_average = country_stats.query('quantity > {}'.format(average_level))  # удобнее через format\n",
    "above_average"
   ]
  },
  {
   "cell_type": "code",
   "execution_count": null,
   "metadata": {},
   "outputs": [],
   "source": [
    "data[ data['quantity'] > average_level ].tail()"
   ]
  },
  {
   "cell_type": "code",
   "execution_count": null,
   "metadata": {},
   "outputs": [],
   "source": [
    "len(data.country.unique())\n",
    "\n",
    "#используем метод str.contains('подстрока'). Он позволяет оставить только те строки, которые содержат слово 'подстрока'.\n",
    "#Параметр case=False означает, что поиск будет производиться без учета регистра букв:\n",
    "data[ data['country'].str.contains('rus', case=False) ]['country'].unique() \n"
   ]
  },
  {
   "cell_type": "code",
   "execution_count": null,
   "metadata": {},
   "outputs": [],
   "source": [
    "#Если требуется выполнение хотя бы одного условия, то используем оператор |.\n",
    "#data[ (условие1) | (условие 2) | (условие 3) ... \n",
    "#Если требуется одновременное выполнение условий, то вместо | ставим &:\n",
    "#data[ (условие1) & (условие 2) & (условие 3) ... ]\n",
    "\n",
    "filtered_countries = data[ (data['country']=='Russian Federation') | (data['country']=='Belarus') ]\n",
    "filtered_countries.head()\n"
   ]
  },
  {
   "cell_type": "code",
   "execution_count": null,
   "metadata": {},
   "outputs": [],
   "source": [
    "#ФИЛЬТР НА СТРОКИ И СТОЛБЦЫ\n",
    "#метод loc дополняет предыдущий способ фильтрации возможностью добавлять условия на столбцы.\n",
    "data.loc[100:105, ['country', 'quantity']]\n",
    "# или требуется получить значения столбца для определенного фильтра\n",
    "data.loc[data['year'] == 2014, 'quantity']\n"
   ]
  },
  {
   "cell_type": "code",
   "execution_count": null,
   "metadata": {},
   "outputs": [],
   "source": [
    "#СОРТИРОВКА ПО СТОЛБЦУ\n",
    "# сортировки значений по столбцам в Pandas используется метод sort_values\n",
    "data.sort_values(by='quantity').head()\n",
    "\n",
    "data.sort_values(by='quantity', ascending=False) #по убыванию\n",
    "\n",
    "#СОРТИРОВКА ПО НЕСКОЛЬКИМ СТОЛБЦАМ\n",
    "data.sort_values(by=['country', 'year'], ascending=[True, True]).head()  "
   ]
  },
  {
   "cell_type": "code",
   "execution_count": null,
   "metadata": {},
   "outputs": [],
   "source": [
    "#. Переназначить переменной data новое значение:\n",
    "data = data.sort_values(by=['country', 'year', 'quantity'], ascending=[True, True, False])\n",
    "data\n",
    "#Или использовать параметр inplace \n",
    "data.sort_values(by=['country', 'year', 'quantity'], ascending=[True, True, False], inplace=True)\n",
    "data\n"
   ]
  },
  {
   "cell_type": "code",
   "execution_count": null,
   "metadata": {},
   "outputs": [],
   "source": [
    "# посчитать заданную метрику по данным файла power.csv: каково суммарное\n",
    "# потребление стран Прибалтики  категорий 4, 12 и 21 за период с 2005 по 2010 года\n",
    "data = pd.read_csv('power.csv')\n",
    "# Выясним, как в датафрейме называются Литва, Латвия и Эстония\n",
    "countries = [ x for x in data['country'].unique() if 'Lit' in x or 'Lat' in x or 'Est' in x]\n",
    "countries"
   ]
  },
  {
   "cell_type": "code",
   "execution_count": null,
   "metadata": {},
   "outputs": [],
   "source": [
    "# Оставляем только те строки датафрейма, которые содержат 'Lithuania', 'Latvia', 'Estonia'\n",
    "filtered_countries = data[ (data['country']=='Lithuania') | (data['country']=='Latvia')\n",
    "                         | (data['country'] == 'Estonia')]\n",
    "\n",
    "# Оставьте в датафрейме только те строки, \n",
    "# год которых приходится на период с 2005 по 2010 включительно\n",
    "filtered_countries = filtered_countries[(filtered_countries['year'] >= 2005) & \n",
    "                                        (filtered_countries['year'] <= 2010)]\n",
    "# Удалим строки со значением столбца quantity < 0\n",
    "filtered_countries = filtered_countries[filtered_countries['quantity'] >= 0]\n",
    "\n",
    "# Оставим в датафрейме только строки со значением столбца category, равным 4, 12 или 21. \n",
    "filtered_countries = filtered_countries[(filtered_countries['category'] == 4) |\n",
    "                                        (filtered_countries['category'] == 12) |\n",
    "                                        (filtered_countries['category'] == 21)]\n",
    "\n",
    "# Посчитаум сумму столбца quantity.\n",
    "filtered_countries['quantity'].sum()"
   ]
  },
  {
   "cell_type": "code",
   "execution_count": null,
   "metadata": {},
   "outputs": [],
   "source": [
    "countries = [ x for x in data['country'].unique() if 'Lit' in x or 'Lat' in x or 'Est' in x]\n",
    "countries"
   ]
  },
  {
   "cell_type": "code",
   "execution_count": null,
   "metadata": {},
   "outputs": [],
   "source": [
    "#чтобы сохранить наш DataFrame со странами\n",
    "data = data.sort_values(by=['country', 'year', 'quantity'], ascending=[True, True, False])\n",
    "data.to_csv('data_21.csv')\n",
    "\n",
    "#В pandas сводные таблицы строятся через метод .pivot_table."
   ]
  },
  {
   "cell_type": "code",
   "execution_count": 5,
   "metadata": {
    "collapsed": true
   },
   "outputs": [
    {
     "name": "stdout",
     "output_type": "stream",
     "text": [
      "<class 'pandas.core.frame.DataFrame'>\n",
      "DatetimeIndex: 1258 entries, 2012-02-23 to 2017-02-22\n",
      "Data columns (total 6 columns):\n",
      "Open         1258 non-null float64\n",
      "High         1258 non-null float64\n",
      "Low          1258 non-null float64\n",
      "Close        1258 non-null float64\n",
      "Volume       1258 non-null int64\n",
      "Adj Close    1258 non-null float64\n",
      "dtypes: float64(5), int64(1)\n",
      "memory usage: 68.8 KB\n",
      "None\n"
     ]
    },
    {
     "data": {
      "text/plain": [
       "<matplotlib.axes._subplots.AxesSubplot at 0x125341e4e0>"
      ]
     },
     "execution_count": 5,
     "metadata": {},
     "output_type": "execute_result"
    },
    {
     "data": {
      "image/png": "[encoded data removed]",
      "text/plain": [
       "<Figure size 432x288 with 1 Axes>"
      ]
     },
     "metadata": {
      "needs_background": "light"
     },
     "output_type": "display_data"
    }
   ],
   "source": [
    "# временые ряды      pandas.to_datetime.\n",
    "\n",
    "df = pd.read_csv('apple.csv', index_col='Date', parse_dates=True)\n",
    "df = df.sort_index()\n",
    "print(df.info())\n",
    "\n",
    "df.loc['2012-Feb', 'Close'].mean() #узнаем среднюю цену акции (mean) на закрытии (Close):\n",
    "\n",
    "df.loc['2012-Feb':'2015-Feb', 'Close'].mean() \n",
    "\n",
    "#среднюю цену закрытия по неделям\n",
    "df.resample('W')['Close'].mean() #Resampling мощный инструмент при работе с временными рядами (time series), помогающий переформировать выборку так, как удобно вам. \n",
    "#Метод resample первым аргументом принимает строку rule\n",
    "\n",
    "\n",
    "import matplotlib.pyplot as plt\n",
    "\n",
    "new_sample_df = df.loc['2012-Feb':'2017-Feb', ['Close']]\n",
    "new_sample_df.plot()\n",
    "#plt.show()\n",
    "\n",
    "\n",
    "\n"
   ]
  }
 ],
 "metadata": {
  "kernelspec": {
   "display_name": "Python 3",
   "language": "python",
   "name": "python3"
  },
  "language_info": {
   "codemirror_mode": {
    "name": "ipython",
    "version": 3
   },
   "file_extension": ".py",
   "mimetype": "text/x-python",
   "name": "python",
   "nbconvert_exporter": "python",
   "pygments_lexer": "ipython3",
   "version": "3.6.8"
  }
 },
 "nbformat": 4,
 "nbformat_minor": 2
}
